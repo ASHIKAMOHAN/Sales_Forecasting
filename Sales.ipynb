{
  "nbformat": 4,
  "nbformat_minor": 0,
  "metadata": {
    "colab": {
      "provenance": [],
      "mount_file_id": "1rHaxIGxgJBNeAO-BYxXBHXXzc8yAnFAS",
      "authorship_tag": "ABX9TyMHP8Noxf0vhCv+gRgLYv/U",
      "include_colab_link": true
    },
    "kernelspec": {
      "name": "python3",
      "display_name": "Python 3"
    },
    "language_info": {
      "name": "python"
    }
  },
  "cells": [
    {
      "cell_type": "markdown",
      "metadata": {
        "id": "view-in-github",
        "colab_type": "text"
      },
      "source": [
        "<a href=\"https://colab.research.google.com/github/ASHIKAMOHAN/Sales_Forecasting/blob/main/Sales.ipynb\" target=\"_parent\"><img src=\"https://colab.research.google.com/assets/colab-badge.svg\" alt=\"Open In Colab\"/></a>"
      ]
    },
    {
      "cell_type": "code",
      "execution_count": null,
      "metadata": {
        "id": "JMiSIzCqTjWy"
      },
      "outputs": [],
      "source": []
    }
  ]
}