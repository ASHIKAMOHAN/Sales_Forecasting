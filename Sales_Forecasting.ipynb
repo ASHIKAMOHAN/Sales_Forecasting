{
  "nbformat": 4,
  "nbformat_minor": 0,
  "metadata": {
    "colab": {
      "provenance": [],
      "authorship_tag": "ABX9TyMTy4kAPb8jwcll8DZCjhAV",
      "include_colab_link": true
    },
    "kernelspec": {
      "name": "python3",
      "display_name": "Python 3"
    },
    "language_info": {
      "name": "python"
    }
  },
  "cells": [
    {
      "cell_type": "markdown",
      "metadata": {
        "id": "view-in-github",
        "colab_type": "text"
      },
      "source": [
        "<a href=\"https://colab.research.google.com/github/ASHIKAMOHAN/Sales_Forecasting/blob/main/Sales_Forecasting.ipynb\" target=\"_parent\"><img src=\"https://colab.research.google.com/assets/colab-badge.svg\" alt=\"Open In Colab\"/></a>"
      ]
    },
    {
      "cell_type": "code",
      "execution_count": null,
      "metadata": {
        "id": "icUXITlUZtM0"
      },
      "outputs": [],
      "source": []
    },
    {
      "cell_type": "code",
      "source": [
        "from google.colab import drive\n",
        "drive.mount('/content/drive')"
      ],
      "metadata": {
        "colab": {
          "base_uri": "https://localhost:8080/"
        },
        "id": "i5eyqsVuZvUd",
        "outputId": "4d0da290-90b6-45ab-89e0-9916e54f4d36"
      },
      "execution_count": 1,
      "outputs": [
        {
          "output_type": "stream",
          "name": "stdout",
          "text": [
            "Mounted at /content/drive\n"
          ]
        }
      ]
    },
    {
      "cell_type": "code",
      "source": [
        "import pandas as pd\n",
        "\n",
        "file_path = '/content/drive/MyDrive/ML Data 3.csv'\n",
        "df = pd.read_csv(file_path)\n",
        "\n",
        "print(df)"
      ],
      "metadata": {
        "colab": {
          "base_uri": "https://localhost:8080/"
        },
        "id": "2FvGINPUacNm",
        "outputId": "c72239ff-4231-4f8b-a840-ffa514c88fbb"
      },
      "execution_count": 4,
      "outputs": [
        {
          "output_type": "stream",
          "name": "stdout",
          "text": [
            "          Rows No  Location ID    DealDate Currency Type  Type  Amount  \\\n",
            "0        28937647          140  04/01/2022      JMD    N     S   77000   \n",
            "1        28937648          140  04/01/2022      XCD    N     S    1000   \n",
            "2        28937649          140  04/01/2022      KRW    N     S  910000   \n",
            "3        28937650          140  04/01/2022      EUR    N     S     705   \n",
            "4        28937651          140  04/01/2022      TRY    N     S    3215   \n",
            "...           ...          ...         ...      ...  ...   ...     ...   \n",
            "8234155  46696722           38  30/04/2025      EUR    N     S     335   \n",
            "8234156  46696723           38  30/04/2025      EUR    N     B     200   \n",
            "8234157  46696724           38  30/04/2025      EUR    N     S     100   \n",
            "8234158  46696725           38  30/04/2025      JPY    N     S   27000   \n",
            "8234159  46696726          272  29/04/2025      EUR    N     S     340   \n",
            "\n",
            "          Value  OriginationID  OrderTypeID  Reatils rate  \n",
            "0        401.68              2            2      191.6949  \n",
            "1        293.17              2            2        3.4110  \n",
            "2        603.05              2            2     1508.9959  \n",
            "3        601.54              2            2        1.1720  \n",
            "4        200.15              2            2       16.0630  \n",
            "...         ...            ...          ...           ...  \n",
            "8234155  301.77              3            1        1.1101  \n",
            "8234156  144.46              3            1        1.3845  \n",
            "8234157   90.08              3            1        1.1101  \n",
            "8234158  155.04              3            1      174.1486  \n",
            "8234159  300.99             11            3        1.1296  \n",
            "\n",
            "[8234160 rows x 11 columns]\n"
          ]
        }
      ]
    }
  ]
}